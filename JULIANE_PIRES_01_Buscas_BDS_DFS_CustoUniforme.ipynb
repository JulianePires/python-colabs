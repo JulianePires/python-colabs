{
  "nbformat": 4,
  "nbformat_minor": 0,
  "metadata": {
    "colab": {
      "provenance": [],
      "include_colab_link": true
    },
    "kernelspec": {
      "name": "python3",
      "display_name": "Python 3"
    }
  },
  "cells": [
    {
      "cell_type": "markdown",
      "metadata": {
        "id": "view-in-github",
        "colab_type": "text"
      },
      "source": [
        "<a href=\"https://colab.research.google.com/github/JulianePires/python-colabs/blob/main/JULIANE_PIRES_01_Buscas_BDS_DFS_CustoUniforme.ipynb\" target=\"_parent\"><img src=\"https://colab.research.google.com/assets/colab-badge.svg\" alt=\"Open In Colab\"/></a>"
      ]
    },
    {
      "cell_type": "markdown",
      "metadata": {
        "id": "MhgyHD_Je5M6"
      },
      "source": [
        "# Busca Não Informada\n",
        "\n",
        "Neste notebook, exploraremos alguns algoritmos clássicos de busca cega (i.e., não informada, sem informação, etc.).\n",
        "\n",
        "Considere o grafo abaixo:\n",
        "\n",
        "![img1](https://github.com/ufrpe-ia/intro-ia/blob/master/assets/images/img_buscas_01.png?raw=true)\n",
        "\n",
        "\n",
        "## Classe Graph\n",
        "\n",
        "Utilizaremos como base uma implementação de um grafo simples em python:\n"
      ]
    },
    {
      "cell_type": "code",
      "metadata": {
        "id": "pSq_buSzwq83"
      },
      "source": [
        "from collections import defaultdict\n",
        "from pprint import pprint\n",
        "\n",
        "class Graph():\n",
        "  def __init__(self):\n",
        "    self.neighbors = defaultdict(list)\n",
        "    self.cost = defaultdict(list)\n",
        "\n",
        "  def show_graph(self):\n",
        "    print(\"Destinations:\");\n",
        "    pprint(dict(self.neighbors))\n",
        "\n",
        "    print(\"Costs:\");\n",
        "    pprint(dict(self.cost))\n",
        "\n",
        "  def add_edge(self, source, destination, price):\n",
        "    self.neighbors[source].append(destination)\n",
        "    self.cost[source].append(price)"
      ],
      "execution_count": null,
      "outputs": []
    },
    {
      "cell_type": "markdown",
      "metadata": {
        "id": "dt9tBN4jcDby"
      },
      "source": [
        "## Algoritmo 1: Busca em largura (BFS)"
      ]
    },
    {
      "cell_type": "code",
      "metadata": {
        "id": "AspEpUIxMpHg"
      },
      "source": [
        "from collections import defaultdict\n",
        "from pprint import pprint\n",
        "\n",
        "class GraphBFS(Graph):\n",
        "\n",
        "  def bfs(self, start='S', end = 'G'):\n",
        "\n",
        "    visited = []\n",
        "    fringe = [(start,0,start)] # (node, cost-to-node, path-to-node)\n",
        "\n",
        "    while len(fringe) > 0:\n",
        "\n",
        "      node = fringe[0]\n",
        "\n",
        "      fringe.remove(node)\n",
        "      visited.append(node[0])\n",
        "\n",
        "      ################\n",
        "      # inserir elementos na fronteira sem ordem\n",
        "      for n,c in zip(self.neighbors[node[0]], self.cost[node[0]]):\n",
        "        if n not in visited:\n",
        "          fringe.append((n,c+node[1],node[2]+n))\n",
        "      ################\n",
        "\n",
        "      print('visited:' , node[0], '(', node[2], ') | fringe:', fringe)\n",
        "      if node[0] == end:\n",
        "        print('FIM: ', node[2], ' Cost:', node[1])\n",
        "        break"
      ],
      "execution_count": null,
      "outputs": []
    },
    {
      "cell_type": "markdown",
      "metadata": {
        "id": "IfbQZzuvXmsD"
      },
      "source": [
        "Adicionando os elementos ao grafo:\n"
      ]
    },
    {
      "cell_type": "code",
      "metadata": {
        "id": "NWf3Pab1wr7y",
        "colab": {
          "base_uri": "https://localhost:8080/"
        },
        "outputId": "b382ba9a-2668-4a09-ab81-853f1441f33c"
      },
      "source": [
        "g = GraphBFS()\n",
        "\n",
        "g.add_edge('S', 'A', 2)\n",
        "g.add_edge('S', 'B', 1)\n",
        "g.add_edge('S', 'G', 9)\n",
        "g.add_edge('A', 'C', 2)\n",
        "g.add_edge('A', 'D', 3)\n",
        "g.add_edge('B', 'D', 2)\n",
        "g.add_edge('B', 'E', 4)\n",
        "g.add_edge('C', 'G', 4)\n",
        "g.add_edge('D', 'G', 4)\n",
        "\n",
        "g.show_graph()"
      ],
      "execution_count": null,
      "outputs": [
        {
          "output_type": "stream",
          "name": "stdout",
          "text": [
            "Destinations:\n",
            "{'A': ['C', 'D'], 'B': ['D', 'E'], 'C': ['G'], 'D': ['G'], 'S': ['A', 'B', 'G']}\n",
            "Costs:\n",
            "{'A': [2, 3], 'B': [2, 4], 'C': [4], 'D': [4], 'S': [2, 1, 9]}\n"
          ]
        }
      ]
    },
    {
      "cell_type": "code",
      "metadata": {
        "id": "6xUZtXYVcrYo",
        "colab": {
          "base_uri": "https://localhost:8080/"
        },
        "outputId": "0a731ed1-a639-4999-8f55-1910612567dc"
      },
      "source": [
        "g.bfs(start='S', end = 'G')"
      ],
      "execution_count": null,
      "outputs": [
        {
          "output_type": "stream",
          "name": "stdout",
          "text": [
            "visited: S ( S ) | fringe: [('A', 2, 'SA'), ('B', 1, 'SB'), ('G', 9, 'SG')]\n",
            "visited: A ( SA ) | fringe: [('B', 1, 'SB'), ('G', 9, 'SG'), ('C', 4, 'SAC'), ('D', 5, 'SAD')]\n",
            "visited: B ( SB ) | fringe: [('G', 9, 'SG'), ('C', 4, 'SAC'), ('D', 5, 'SAD'), ('D', 3, 'SBD'), ('E', 5, 'SBE')]\n",
            "visited: G ( SG ) | fringe: [('C', 4, 'SAC'), ('D', 5, 'SAD'), ('D', 3, 'SBD'), ('E', 5, 'SBE')]\n",
            "FIM:  SG  Cost: 9\n"
          ]
        }
      ]
    },
    {
      "cell_type": "markdown",
      "metadata": {
        "id": "HUxn7O32dw1Q"
      },
      "source": [
        "## Algoritmo 2: Busca em Profundidade:"
      ]
    },
    {
      "cell_type": "code",
      "metadata": {
        "id": "SpeQu06efLdy",
        "colab": {
          "base_uri": "https://localhost:8080/"
        },
        "outputId": "4bfe076a-3fc8-4c92-d14e-812e2c19c50f"
      },
      "source": [
        "from collections import defaultdict\n",
        "from pprint import pprint\n",
        "\n",
        "class GraphDFS(Graph):\n",
        "\n",
        "    def dfs(self, start='S', end='C'):\n",
        "      visited = set()\n",
        "\n",
        "      def iterable_dfs(self, start):\n",
        "        visited.add(start)\n",
        "        fringe = [(start,0,start)]\n",
        "\n",
        "        while len(fringe) > 0:\n",
        "          node = fringe.pop()\n",
        "\n",
        "          for n,c in zip(self.neighbors[node[0]], self.cost[node[0]]):\n",
        "            if n not in visited:\n",
        "              fringe.append((n,c+node[1],node[2]+n))\n",
        "              visited.add(n)\n",
        "\n",
        "          print('visited:' , node[0], '(', node[2], ') | fringe:', fringe)\n",
        "          if node[0] == end:\n",
        "            print('FIM: ', node[2], ' Cost:', node[1])\n",
        "            break\n",
        "\n",
        "      iterable_dfs(self, start)\n",
        "\n",
        "\n",
        "g = GraphDFS()\n",
        "g.add_edge('S', 'A', 2)\n",
        "g.add_edge('S', 'B', 1)\n",
        "g.add_edge('S', 'G', 9)\n",
        "g.add_edge('A', 'C', 2)\n",
        "g.add_edge('A', 'D', 3)\n",
        "g.add_edge('B', 'D', 2)\n",
        "g.add_edge('B', 'E', 4)\n",
        "g.add_edge('C', 'G', 4)\n",
        "g.add_edge('D', 'G', 4)\n",
        "\n",
        "g.dfs()\n"
      ],
      "execution_count": null,
      "outputs": [
        {
          "output_type": "stream",
          "name": "stdout",
          "text": [
            "visited: S ( S ) | fringe: [('A', 2, 'SA'), ('B', 1, 'SB'), ('G', 9, 'SG')]\n",
            "visited: G ( SG ) | fringe: [('A', 2, 'SA'), ('B', 1, 'SB')]\n",
            "visited: B ( SB ) | fringe: [('A', 2, 'SA'), ('D', 3, 'SBD'), ('E', 5, 'SBE')]\n",
            "visited: E ( SBE ) | fringe: [('A', 2, 'SA'), ('D', 3, 'SBD')]\n",
            "visited: D ( SBD ) | fringe: [('A', 2, 'SA')]\n",
            "visited: A ( SA ) | fringe: [('C', 4, 'SAC')]\n",
            "visited: C ( SAC ) | fringe: []\n",
            "FIM:  SAC  Cost: 4\n"
          ]
        }
      ]
    },
    {
      "cell_type": "code",
      "source": [],
      "metadata": {
        "id": "AGfZ5zSPEFY_"
      },
      "execution_count": null,
      "outputs": []
    },
    {
      "cell_type": "markdown",
      "metadata": {
        "id": "ntger_QseMVy"
      },
      "source": [
        "## Algoritmo 3: Busca de Custo Uniforme"
      ]
    },
    {
      "cell_type": "code",
      "metadata": {
        "id": "qtDrboSZd9OK",
        "colab": {
          "base_uri": "https://localhost:8080/"
        },
        "outputId": "8f679a1f-cb71-4b4c-ce27-c30b3e9a0d58"
      },
      "source": [
        "class GraphUC(GraphBFS):\n",
        "  def uniformCost(self,  start='S', end = 'G'):\n",
        "\n",
        "    visited = []\n",
        "    fringe = [(start,0,start)] # (node, cost-to-node, path-to-node)\n",
        "\n",
        "    while len(fringe) > 0:\n",
        "\n",
        "      node = fringe[0]\n",
        "\n",
        "      fringe.remove(node)\n",
        "      visited.append(node[0])\n",
        "\n",
        "      for n,c in zip(self.neighbors[node[0]], self.cost[node[0]]):\n",
        "        if n not in visited:\n",
        "          fringe.append((n,c+node[1],node[2]+n))\n",
        "\n",
        "      ################\n",
        "      # sort fringe\n",
        "      fringe = sorted(fringe, key=lambda x: x[1])\n",
        "      ################\n",
        "\n",
        "      print('visited:' , node[0], '(', node[2], ') | fringe:', fringe)\n",
        "      if node[0] == end:\n",
        "        print('FIM: ', node[2], ' Cost:', node[1])\n",
        "        break\n",
        "\n",
        "\n",
        "g = GraphUC()\n",
        "g.add_edge('S', 'A', 2)\n",
        "g.add_edge('S', 'B', 1)\n",
        "g.add_edge('S', 'G', 9)\n",
        "g.add_edge('A', 'C', 2)\n",
        "g.add_edge('A', 'D', 3)\n",
        "g.add_edge('B', 'D', 2)\n",
        "g.add_edge('B', 'E', 4)\n",
        "g.add_edge('C', 'G', 4)\n",
        "g.add_edge('D', 'G', 4)\n",
        "\n",
        "g.uniformCost(start='S', end = 'G')"
      ],
      "execution_count": null,
      "outputs": [
        {
          "output_type": "stream",
          "name": "stdout",
          "text": [
            "visited: S ( S ) | fringe: [('B', 1, 'SB'), ('A', 2, 'SA'), ('G', 9, 'SG')]\n",
            "visited: B ( SB ) | fringe: [('A', 2, 'SA'), ('D', 3, 'SBD'), ('E', 5, 'SBE'), ('G', 9, 'SG')]\n",
            "visited: A ( SA ) | fringe: [('D', 3, 'SBD'), ('C', 4, 'SAC'), ('E', 5, 'SBE'), ('D', 5, 'SAD'), ('G', 9, 'SG')]\n",
            "visited: D ( SBD ) | fringe: [('C', 4, 'SAC'), ('E', 5, 'SBE'), ('D', 5, 'SAD'), ('G', 7, 'SBDG'), ('G', 9, 'SG')]\n",
            "visited: C ( SAC ) | fringe: [('E', 5, 'SBE'), ('D', 5, 'SAD'), ('G', 7, 'SBDG'), ('G', 8, 'SACG'), ('G', 9, 'SG')]\n",
            "visited: E ( SBE ) | fringe: [('D', 5, 'SAD'), ('G', 7, 'SBDG'), ('G', 8, 'SACG'), ('G', 9, 'SG')]\n",
            "visited: D ( SAD ) | fringe: [('G', 7, 'SBDG'), ('G', 8, 'SACG'), ('G', 9, 'SG'), ('G', 9, 'SADG')]\n",
            "visited: G ( SBDG ) | fringe: [('G', 8, 'SACG'), ('G', 9, 'SG'), ('G', 9, 'SADG')]\n",
            "FIM:  SBDG  Cost: 7\n"
          ]
        }
      ]
    },
    {
      "cell_type": "markdown",
      "metadata": {
        "id": "14KcScstfRcc"
      },
      "source": [
        "# Exemplo 2: Malha aérea\n",
        "\n",
        "Considere o seguinte grafo representando uma malha aérea:\n"
      ]
    },
    {
      "cell_type": "code",
      "metadata": {
        "id": "M2wR1-WgCaxy"
      },
      "source": [
        "f = GraphUC()\n",
        "f.add_edge('Los Angeles', 'New Delhi', 200)\n",
        "f.add_edge('Los Angeles', 'Japan', 87)\n",
        "f.add_edge('Germany', 'New Delhi', 125)\n",
        "f.add_edge('Italy', 'Los Angeles', 150)\n",
        "f.add_edge('New Delhi', 'France', 100)\n",
        "f.add_edge('Los Angeles', 'France', 200)\n",
        "f.add_edge('Italy', 'New Delhi', 300)\n",
        "f.add_edge('France', 'Norway', 175)\n",
        "f.add_edge('Ireland', 'Chicago', 100)\n",
        "f.add_edge('Chicago', 'Italy', 135)\n",
        "f.add_edge('Los Angeles', 'Ireland', 100)\n",
        "f.add_edge('Ireland', 'New Delhi', 200)\n",
        "f.show_graph()"
      ],
      "execution_count": null,
      "outputs": []
    },
    {
      "cell_type": "markdown",
      "metadata": {
        "id": "4lMkJXaSfsf4"
      },
      "source": [
        "Executando BFS, DFS e CustoUniforme:"
      ]
    },
    {
      "cell_type": "code",
      "metadata": {
        "id": "3xaHCupuxz5Z"
      },
      "source": [
        "f.bfs(start='Los Angeles', end='Norway')\n",
        "print()\n",
        "f.uniformCost(start='Los Angeles', end='Norway')"
      ],
      "execution_count": null,
      "outputs": []
    },
    {
      "cell_type": "markdown",
      "source": [],
      "metadata": {
        "id": "Ax7rbQDXAV7y"
      }
    },
    {
      "cell_type": "code",
      "source": [],
      "metadata": {
        "id": "PKpGgzLeALXj"
      },
      "execution_count": null,
      "outputs": []
    }
  ]
}